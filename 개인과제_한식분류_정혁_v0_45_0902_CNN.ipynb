{
  "nbformat": 4,
  "nbformat_minor": 0,
  "metadata": {
    "colab": {
      "name": "개인과제_한식분류_정혁_v0.45_0902_CNN.ipynb",
      "provenance": [],
      "collapsed_sections": [],
      "include_colab_link": true
    },
    "kernelspec": {
      "name": "python3",
      "display_name": "Python 3"
    },
    "language_info": {
      "name": "python"
    }
  },
  "cells": [
    {
      "cell_type": "markdown",
      "metadata": {
        "id": "view-in-github",
        "colab_type": "text"
      },
      "source": [
        "<a href=\"https://colab.research.google.com/github/Hyuk-Jung-Newbie/individual-repoting_JH/blob/main/%EA%B0%9C%EC%9D%B8%EA%B3%BC%EC%A0%9C_%ED%95%9C%EC%8B%9D%EB%B6%84%EB%A5%98_%EC%A0%95%ED%98%81_v0_45_0902_CNN.ipynb\" target=\"_parent\"><img src=\"https://colab.research.google.com/assets/colab-badge.svg\" alt=\"Open In Colab\"/></a>"
      ]
    },
    {
      "cell_type": "code",
      "metadata": {
        "colab": {
          "base_uri": "https://localhost:8080/"
        },
        "id": "zSZfcGfNg4of",
        "outputId": "0e9d8e10-654d-46bd-becd-ee78522bf4d5"
      },
      "source": [
        "from google.colab import drive\n",
        "drive.mount('/content/drive')"
      ],
      "execution_count": null,
      "outputs": [
        {
          "output_type": "stream",
          "name": "stdout",
          "text": [
            "Mounted at /content/drive\n"
          ]
        }
      ]
    },
    {
      "cell_type": "code",
      "metadata": {
        "colab": {
          "base_uri": "https://localhost:8080/"
        },
        "id": "5nhZ_2SjkGl-",
        "outputId": "e2505dd0-600d-4f98-8a40-789f9616e7f6"
      },
      "source": [
        "cd/content/drive/MyDrive/KU_LGCNS21/K-FOOD"
      ],
      "execution_count": null,
      "outputs": [
        {
          "output_type": "stream",
          "name": "stdout",
          "text": [
            "/content/drive/MyDrive/KU_LGCNS21/K-FOOD\n"
          ]
        }
      ]
    },
    {
      "cell_type": "code",
      "metadata": {
        "colab": {
          "base_uri": "https://localhost:8080/"
        },
        "id": "laiGlOSwmOLx",
        "outputId": "8c6f2f4a-9035-4c97-82e4-66bafa1eac1d"
      },
      "source": [
        "pip install imageio"
      ],
      "execution_count": null,
      "outputs": [
        {
          "output_type": "stream",
          "name": "stdout",
          "text": [
            "Requirement already satisfied: imageio in /usr/local/lib/python3.7/dist-packages (2.4.1)\n",
            "Requirement already satisfied: numpy in /usr/local/lib/python3.7/dist-packages (from imageio) (1.19.5)\n",
            "Requirement already satisfied: pillow in /usr/local/lib/python3.7/dist-packages (from imageio) (7.1.2)\n"
          ]
        }
      ]
    },
    {
      "cell_type": "code",
      "metadata": {
        "id": "SvAcYMW13-rC",
        "colab": {
          "base_uri": "https://localhost:8080/"
        },
        "outputId": "d496d162-44c5-4d9a-9ab7-4f3973b21603"
      },
      "source": [
        "import tensorflow as tf\n",
        "import numpy as np\n",
        "from skimage import io\n",
        "from skimage.transform import rescale,resize,downscale_local_mean\n",
        "import cv2\n",
        "import os\n",
        "import PIL\n",
        "from PIL import Image\n",
        "import tensorflow_datasets as tfds\n",
        "from google.colab.patches import cv2_imshow\n",
        "from tensorflow.keras import datasets, layers, models\n",
        "import matplotlib.pyplot as plt\n",
        "from google.colab import drive\n",
        "from imageio import imread\n",
        "%matplotlib inline  \n",
        "print (\"Package loaded\") \n",
        "cwd = os.getcwd()\n",
        "print (\"Current folder is %s\" % (cwd) )"
      ],
      "execution_count": null,
      "outputs": [
        {
          "output_type": "stream",
          "name": "stdout",
          "text": [
            "Package loaded\n",
            "Current folder is /content/drive/MyDrive/KU_LGCNS21/K-FOOD\n"
          ]
        }
      ]
    },
    {
      "cell_type": "code",
      "metadata": {
        "id": "AYYNlHbpalPS",
        "colab": {
          "base_uri": "https://localhost:8080/"
        },
        "outputId": "0a54e869-0e81-4d43-8520-8cf749e1bd11"
      },
      "source": [
        "# Training set folder \n",
        "\n",
        "paths = {\"1.Stir-fried eggplant\",\"2.Soy Sauce Marinated Crab\",\"3.Grilled Short Ribs\",\"4.Braised Short Ribs\",\"5.Short rib soup\",\n",
        "         \"6.Grilled hairtail\",\"7.Braised Cutlassfish\",\"8.potato pancake\",\"9.Braised potatoes\",\"10.Stir-fried shredded potatoes\"}\n",
        "         \n",
        "# The reshape size\n",
        "imgsize = [100, 100]\n",
        "# Grayscale\n",
        "use_gray = 1\n",
        "# Save name\n",
        "data_name = \"custom_data\"\n",
        "\n",
        "print (\"Your images should be at\")\n",
        "for i, path in enumerate(paths):\n",
        "    print (\" [%d/%d] %s/%s\" % (i, len(paths), cwd, path)) \n",
        "\n",
        "print (\"Data will be saved to %s\" \n",
        "       % (cwd + '/data/' + data_name + '.npz'))"
      ],
      "execution_count": null,
      "outputs": [
        {
          "output_type": "stream",
          "name": "stdout",
          "text": [
            "Your images should be at\n",
            " [0/10] /content/5.Short rib soup\n",
            " [1/10] /content/1.Stir-fried eggplant\n",
            " [2/10] /content/8.potato pancake\n",
            " [3/10] /content/7.Braised Cutlassfish\n",
            " [4/10] /content/9.Braised potatoes\n",
            " [5/10] /content/3.Grilled Short Ribs\n",
            " [6/10] /content/6.Grilled hairtail\n",
            " [7/10] /content/10.Stir-fried shredded potatoes\n",
            " [8/10] /content/2.Soy Sauce Marinated Crab\n",
            " [9/10] /content/4.Braised Short Ribs\n",
            "Data will be saved to /content/data/custom_data.npz\n"
          ]
        }
      ]
    },
    {
      "cell_type": "code",
      "metadata": {
        "id": "PvrX54FWX1df"
      },
      "source": [
        "def rgb2gray(rgb):\n",
        "    if len(rgb.shape) is 3:\n",
        "        return np.dot(rgb[...,:3], [0.299, 0.587, 0.114])\n",
        "    else:\n",
        "        # print (\"Current Image if GRAY!\")\n",
        "        return rgb"
      ],
      "execution_count": null,
      "outputs": []
    },
    {
      "cell_type": "code",
      "metadata": {
        "colab": {
          "base_uri": "https://localhost:8080/",
          "height": 244
        },
        "id": "iYC567HCrmoI",
        "outputId": "c3a8c8bb-42c0-478e-b5c4-4e81529e7bb4"
      },
      "source": [
        "nclass     = len(paths)\n",
        "valid_exts = [\".jpg\",\".gif\",\".png\",\".tga\", \".jpeg\"]\n",
        "imgcnt     = 0\n",
        "for i, relpath in zip(range(nclass), paths):\n",
        "    path = cwd + \"/\" + relpath\n",
        "    flist = sorted(os.listdir(path))\n",
        "    for f in flist:\n",
        "        if os.path.splitext(f)[1].lower() not in valid_exts:\n",
        "            continue\n",
        "        fullpath = os.path.join(path, f)        \n",
        "        ## open cv 이용\n",
        "        try:\n",
        "          currimg=cv2.imread(fullpath, cv2.IMREAD_GRAYSCALE)\n",
        "          currimg_small=cv2.resize(currimg, (100, 100))\n",
        "        except Exception as e:\n",
        "          print(str(e))\n",
        "          continue      \n",
        "        currimgvec   = np.reshape(currimg_small, (1, -1))\n",
        "        # Save \n",
        "        curr_label = np.eye(nclass, nclass)[i:i+1, :]\n",
        "        if imgcnt is 0:\n",
        "            totalimg   = currimgvec\n",
        "            totallabel = curr_label\n",
        "        else:\n",
        "            totalimg   = np.concatenate((totalimg, currimgvec), axis=0)\n",
        "            totallabel = np.concatenate((totallabel, curr_label), axis=0)\n",
        "        imgcnt    = imgcnt + 1\n",
        "print (\"Total %d images loaded.\" % (imgcnt))"
      ],
      "execution_count": null,
      "outputs": [
        {
          "output_type": "error",
          "ename": "KeyboardInterrupt",
          "evalue": "ignored",
          "traceback": [
            "\u001b[0;31m---------------------------------------------------------------------------\u001b[0m",
            "\u001b[0;31mKeyboardInterrupt\u001b[0m                         Traceback (most recent call last)",
            "\u001b[0;32m<ipython-input-14-eee49ba79717>\u001b[0m in \u001b[0;36m<module>\u001b[0;34m()\u001b[0m\n\u001b[1;32m     11\u001b[0m         \u001b[0;31m## open cv 이용\u001b[0m\u001b[0;34m\u001b[0m\u001b[0;34m\u001b[0m\u001b[0;34m\u001b[0m\u001b[0m\n\u001b[1;32m     12\u001b[0m         \u001b[0;32mtry\u001b[0m\u001b[0;34m:\u001b[0m\u001b[0;34m\u001b[0m\u001b[0;34m\u001b[0m\u001b[0m\n\u001b[0;32m---> 13\u001b[0;31m           \u001b[0mcurrimg\u001b[0m\u001b[0;34m=\u001b[0m\u001b[0mcv2\u001b[0m\u001b[0;34m.\u001b[0m\u001b[0mimread\u001b[0m\u001b[0;34m(\u001b[0m\u001b[0mfullpath\u001b[0m\u001b[0;34m,\u001b[0m \u001b[0mcv2\u001b[0m\u001b[0;34m.\u001b[0m\u001b[0mIMREAD_GRAYSCALE\u001b[0m\u001b[0;34m)\u001b[0m\u001b[0;34m\u001b[0m\u001b[0;34m\u001b[0m\u001b[0m\n\u001b[0m\u001b[1;32m     14\u001b[0m           \u001b[0mcurrimg_small\u001b[0m\u001b[0;34m=\u001b[0m\u001b[0mcv2\u001b[0m\u001b[0;34m.\u001b[0m\u001b[0mresize\u001b[0m\u001b[0;34m(\u001b[0m\u001b[0mcurrimg\u001b[0m\u001b[0;34m,\u001b[0m \u001b[0;34m(\u001b[0m\u001b[0;36m100\u001b[0m\u001b[0;34m,\u001b[0m \u001b[0;36m100\u001b[0m\u001b[0;34m)\u001b[0m\u001b[0;34m)\u001b[0m\u001b[0;34m\u001b[0m\u001b[0;34m\u001b[0m\u001b[0m\n\u001b[1;32m     15\u001b[0m         \u001b[0;32mexcept\u001b[0m \u001b[0mException\u001b[0m \u001b[0;32mas\u001b[0m \u001b[0me\u001b[0m\u001b[0;34m:\u001b[0m\u001b[0;34m\u001b[0m\u001b[0;34m\u001b[0m\u001b[0m\n",
            "\u001b[0;31mKeyboardInterrupt\u001b[0m: "
          ]
        }
      ]
    },
    {
      "cell_type": "markdown",
      "metadata": {
        "id": "2_L3XxUSKGvD"
      },
      "source": [
        "DIVIDE TOTAL DATA INTO TRAINING AND TEST SET"
      ]
    },
    {
      "cell_type": "code",
      "metadata": {
        "id": "Uz2F2ZIvJdqw"
      },
      "source": [
        "def print_shape(string, x):\n",
        "    print (\"Shape of '%s' is %s\" % (string, x.shape,))\n",
        "    \n",
        "randidx    = np.random.randint(imgcnt, size=imgcnt)\n",
        "trainidx   = randidx[0:int(3*imgcnt/5)]\n",
        "testidx    = randidx[int(3*imgcnt/5):imgcnt]\n",
        "trainimg   = totalimg[trainidx, :]\n",
        "trainlabel = totallabel[trainidx, :]\n",
        "testimg    = totalimg[testidx, :]\n",
        "testlabel  = totallabel[testidx, :]\n",
        "print_shape(\"trainimg\", trainimg)\n",
        "print_shape(\"trainlabel\", trainlabel)\n",
        "print_shape(\"testimg\", testimg)\n",
        "print_shape(\"testlabel\", testlabel)"
      ],
      "execution_count": null,
      "outputs": []
    },
    {
      "cell_type": "markdown",
      "metadata": {
        "id": "oCTS3JV-KMHV"
      },
      "source": [
        "SAVE TO NPZ"
      ]
    },
    {
      "cell_type": "code",
      "metadata": {
        "id": "qH6Vgqg8JvI_"
      },
      "source": [
        "# The reshape size를 [100,100]으로 변형\n",
        "imgsize = [100, 100]\n",
        "\n",
        "savepath = cwd + \"/data/\" + data_name + \".npz\"\n",
        "np.savez(savepath, trainimg=trainimg, trainlabel=trainlabel, testimg=testimg, testlabel=testlabel, imgsize=imgsize, use_gray=use_gray)\n",
        "print (\"Saved to %s\" % (savepath))"
      ],
      "execution_count": null,
      "outputs": []
    },
    {
      "cell_type": "markdown",
      "metadata": {
        "id": "r8JOqz9AKOYE"
      },
      "source": [
        "LOAD TO CHECK!"
      ]
    },
    {
      "cell_type": "code",
      "metadata": {
        "id": "ppPmETe2J8Hg",
        "colab": {
          "base_uri": "https://localhost:8080/",
          "height": 244
        },
        "outputId": "da831582-5ffb-4ddd-d37b-5cc3263a6c50"
      },
      "source": [
        "# Load them!\n",
        "cwd = os.getcwd()\n",
        "loadpath = cwd + \"/data/\" + data_name + \".npz\"\n",
        "l = np.load(loadpath,allow_pickle=True) ##allow_pickle = true 추가\n",
        "1\n",
        "# See what's in here\n",
        "l.files\n",
        "\n",
        "# Parse data\n",
        "trainimg_loaded = l['trainimg']\n",
        "trainlabel_loaded = l['trainlabel']\n",
        "testimg_loaded = l['testimg']\n",
        "testlabel_loaded = l['testlabel']\n",
        "\n",
        "print (\"%d train images loaded\" % (trainimg_loaded.shape[0]))\n",
        "print (\"%d test images loaded\" % (testimg_loaded.shape[0]))\n",
        "print (\"Loaded from to %s\" % (savepath))"
      ],
      "execution_count": null,
      "outputs": [
        {
          "output_type": "error",
          "ename": "NameError",
          "evalue": "ignored",
          "traceback": [
            "\u001b[0;31m---------------------------------------------------------------------------\u001b[0m",
            "\u001b[0;31mNameError\u001b[0m                                 Traceback (most recent call last)",
            "\u001b[0;32m<ipython-input-8-5294221379db>\u001b[0m in \u001b[0;36m<module>\u001b[0;34m()\u001b[0m\n\u001b[1;32m      1\u001b[0m \u001b[0;31m# Load them!\u001b[0m\u001b[0;34m\u001b[0m\u001b[0;34m\u001b[0m\u001b[0;34m\u001b[0m\u001b[0m\n\u001b[1;32m      2\u001b[0m \u001b[0mcwd\u001b[0m \u001b[0;34m=\u001b[0m \u001b[0mos\u001b[0m\u001b[0;34m.\u001b[0m\u001b[0mgetcwd\u001b[0m\u001b[0;34m(\u001b[0m\u001b[0;34m)\u001b[0m\u001b[0;34m\u001b[0m\u001b[0;34m\u001b[0m\u001b[0m\n\u001b[0;32m----> 3\u001b[0;31m \u001b[0mloadpath\u001b[0m \u001b[0;34m=\u001b[0m \u001b[0mcwd\u001b[0m \u001b[0;34m+\u001b[0m \u001b[0;34m\"/data/\"\u001b[0m \u001b[0;34m+\u001b[0m \u001b[0mdata_name\u001b[0m \u001b[0;34m+\u001b[0m \u001b[0;34m\".npz\"\u001b[0m\u001b[0;34m\u001b[0m\u001b[0;34m\u001b[0m\u001b[0m\n\u001b[0m\u001b[1;32m      4\u001b[0m \u001b[0ml\u001b[0m \u001b[0;34m=\u001b[0m \u001b[0mnp\u001b[0m\u001b[0;34m.\u001b[0m\u001b[0mload\u001b[0m\u001b[0;34m(\u001b[0m\u001b[0mloadpath\u001b[0m\u001b[0;34m,\u001b[0m\u001b[0mallow_pickle\u001b[0m\u001b[0;34m=\u001b[0m\u001b[0;32mTrue\u001b[0m\u001b[0;34m)\u001b[0m \u001b[0;31m##allow_pickle = true 추가\u001b[0m\u001b[0;34m\u001b[0m\u001b[0;34m\u001b[0m\u001b[0m\n\u001b[1;32m      5\u001b[0m \u001b[0;36m1\u001b[0m\u001b[0;34m\u001b[0m\u001b[0;34m\u001b[0m\u001b[0m\n",
            "\u001b[0;31mNameError\u001b[0m: name 'data_name' is not defined"
          ]
        }
      ]
    },
    {
      "cell_type": "markdown",
      "metadata": {
        "id": "7kuc29SFKSiC"
      },
      "source": [
        "PLOT RANDOMLY SELECTED TRAIN IMAGES"
      ]
    },
    {
      "cell_type": "code",
      "metadata": {
        "id": "YTI4n-bbgEzL"
      },
      "source": [
        "print(trainimg_loaded.shape)"
      ],
      "execution_count": null,
      "outputs": []
    },
    {
      "cell_type": "code",
      "metadata": {
        "id": "WxvmpA4hKUl5"
      },
      "source": [
        "ntrain_loaded = trainimg_loaded.shape[0]\n",
        "batch_size = 10;\n",
        "randidx = np.random.randint(ntrain_loaded, size=batch_size)\n",
        "for i in randidx: \n",
        "    currimg = np.reshape(trainimg_loaded[i, :], (imgsize[0], -1))\n",
        "    currlabel_onehot = trainlabel_loaded[i, :]\n",
        "    currlabel = np.argmax(currlabel_onehot) \n",
        "    if use_gray:\n",
        "        currimg = np.reshape(trainimg[i, :], (imgsize[0], -1))\n",
        "        plt.matshow(currimg, cmap=plt.get_cmap('gray'))\n",
        "        plt.colorbar()\n",
        "    else:\n",
        "        currimg = np.reshape(trainimg[i, :], (imgsize[0], imgsize[1], 3))\n",
        "        plt.imshow(currimg)\n",
        "    title_string = \"[%d] %d-class\" % (i, currlabel)\n",
        "    plt.title(title_string) \n",
        "    plt.show()"
      ],
      "execution_count": null,
      "outputs": []
    },
    {
      "cell_type": "markdown",
      "metadata": {
        "id": "LX7F54OsKWgt"
      },
      "source": [
        "PLOT RANDOMLY SELECTED TEST IMAGES"
      ]
    },
    {
      "cell_type": "code",
      "metadata": {
        "id": "M7f5x3bwKZmt"
      },
      "source": [
        "# Do batch stuff using loaded data \n",
        "ntest_loaded = testimg_loaded.shape[0]\n",
        "batch_size   = 3;\n",
        "randidx      = np.random.randint(ntest_loaded, size=batch_size)\n",
        "for i in randidx: \n",
        "    currimg = np.reshape(testimg_loaded[i, :], (imgsize[0], -1))\n",
        "    currlabel_onehot = testlabel_loaded[i, :]\n",
        "    currlabel = np.argmax(currlabel_onehot) \n",
        "    \n",
        "    if use_gray:\n",
        "        currimg = np.reshape(testimg[i, :], (imgsize[0], -1))\n",
        "        plt.matshow(currimg, cmap=plt.get_cmap('gray'))\n",
        "        plt.colorbar()\n",
        "    else:\n",
        "        currimg = np.reshape(testimg[i, :], (imgsize[0], imgsize[1], 3))\n",
        "        plt.imshow(currimg)\n",
        "    title_string = \"[%d] %d-class\" % (i, currlabel)\n",
        "    plt.title(title_string) \n",
        "    plt.show()"
      ],
      "execution_count": null,
      "outputs": []
    },
    {
      "cell_type": "markdown",
      "metadata": {
        "id": "LV1oWMlkaQFV"
      },
      "source": [
        "CONVOLUTIONAL NEURAL NETWORK WITH CUSTOM DATA"
      ]
    },
    {
      "cell_type": "code",
      "metadata": {
        "colab": {
          "base_uri": "https://localhost:8080/"
        },
        "id": "3cjWyK8DaM6v",
        "outputId": "e58d7caf-0297-40f4-cf85-6dfef0e97953"
      },
      "source": [
        "import os\n",
        "import numpy as np\n",
        "import tensorflow as tf\n",
        "import matplotlib.pyplot as plt\n",
        "from tensorflow import keras\n",
        "%matplotlib inline  \n",
        "print (\"Packages loaded\")"
      ],
      "execution_count": null,
      "outputs": [
        {
          "output_type": "stream",
          "name": "stdout",
          "text": [
            "Packages loaded\n"
          ]
        }
      ]
    },
    {
      "cell_type": "markdown",
      "metadata": {
        "id": "9hav_Ak7WigJ"
      },
      "source": [
        "LOAD DATA for CONVOLUTIONAL NEURAL NETWORK "
      ]
    },
    {
      "cell_type": "code",
      "metadata": {
        "id": "usgVpgxnZeQT",
        "colab": {
          "base_uri": "https://localhost:8080/"
        },
        "outputId": "0adad0ae-597c-490c-c2ce-5997c32de091"
      },
      "source": [
        "# Load them!\n",
        "cwd = os.getcwd()\n",
        "loadpath = cwd + \"/data/custom_data.npz\"\n",
        "l = np.load(loadpath)\n",
        "\n",
        "# See what's in here\n",
        "print (l.files)\n",
        "\n",
        "# Parse data\n",
        "trainimg = l['trainimg']\n",
        "trainlabel = l['trainlabel']\n",
        "testimg = l['testimg']\n",
        "testlabel = l['testlabel']\n",
        "imgsize = l['imgsize']\n",
        "use_gray = l['use_gray']\n",
        "ntrain = trainimg.shape[0]\n",
        "nclass = trainlabel.shape[1]\n",
        "dim    = trainimg.shape[1]\n",
        "ntest  = testimg.shape[0]\n",
        "print (\"%d train images loaded\" % (ntrain))\n",
        "print (\"%d test images loaded\" % (ntest))\n",
        "print (\"%d dimensional input\" % (dim))\n",
        "print (\"Image size is %s\" % (imgsize))\n",
        "print (\"%d classes\" % (nclass))"
      ],
      "execution_count": null,
      "outputs": [
        {
          "output_type": "stream",
          "name": "stdout",
          "text": [
            "['trainimg', 'trainlabel', 'testimg', 'testlabel', 'imgsize', 'use_gray']\n",
            "5993 train images loaded\n",
            "3996 test images loaded\n",
            "10000 dimensional input\n",
            "Image size is [100 100]\n",
            "10 classes\n"
          ]
        }
      ]
    },
    {
      "cell_type": "code",
      "metadata": {
        "colab": {
          "base_uri": "https://localhost:8080/"
        },
        "id": "VbeASgKwWkrs",
        "outputId": "2108ab4b-0f0a-4900-d879-962d5000041f"
      },
      "source": [
        "print(trainimg.shape, trainlabel.shape)"
      ],
      "execution_count": null,
      "outputs": [
        {
          "output_type": "stream",
          "name": "stdout",
          "text": [
            "(5993, 10000) (5993, 10)\n"
          ]
        }
      ]
    },
    {
      "cell_type": "code",
      "metadata": {
        "colab": {
          "base_uri": "https://localhost:8080/"
        },
        "id": "1BalDvg8szs0",
        "outputId": "e3e3fc46-37a9-401d-fbaf-1439c040ad7c"
      },
      "source": [
        "print(testimg.shape, testlabel.shape)"
      ],
      "execution_count": null,
      "outputs": [
        {
          "output_type": "stream",
          "name": "stdout",
          "text": [
            "(3996, 10000) (3996, 10)\n"
          ]
        }
      ]
    },
    {
      "cell_type": "code",
      "metadata": {
        "id": "HN1fWDCbYItN"
      },
      "source": [
        "from sklearn.model_selection import train_test_split\n",
        "trainimg_scaled = trainimg/255.0\n",
        "trainimg_scaled = trainimg.reshape(-1,100,100,1)\n",
        "trainimg_scaled,valimg_scaled,trainlabel,vallabel = train_test_split(trainimg_scaled,trainlabel,test_size=0.2,random_state = 2021)"
      ],
      "execution_count": null,
      "outputs": []
    },
    {
      "cell_type": "code",
      "metadata": {
        "id": "X8dr_TR0qnQr"
      },
      "source": [
        ""
      ],
      "execution_count": null,
      "outputs": []
    },
    {
      "cell_type": "markdown",
      "metadata": {
        "id": "NAU25lCzZGaL"
      },
      "source": [
        "합성곱 신경망 만들기"
      ]
    },
    {
      "cell_type": "code",
      "metadata": {
        "id": "-Rm25VyCZJe_"
      },
      "source": [
        "model = keras.Sequential()\n",
        "model.add(keras.layers.Conv2D(64,kernel_size=3,activation='relu',padding='same',input_shape = (100,100,1)))"
      ],
      "execution_count": null,
      "outputs": []
    },
    {
      "cell_type": "code",
      "metadata": {
        "id": "OKgYkdC-aoaM"
      },
      "source": [
        "model.add(keras.layers.MaxPooling2D(2))"
      ],
      "execution_count": null,
      "outputs": []
    },
    {
      "cell_type": "code",
      "metadata": {
        "id": "pk7uObRxaylf"
      },
      "source": [
        "model.add(keras.layers.Conv2D(64,kernel_size=3,activation='relu',padding='same',input_shape = (100,100,1)))"
      ],
      "execution_count": null,
      "outputs": []
    },
    {
      "cell_type": "code",
      "metadata": {
        "id": "-n-cx3kba2u3"
      },
      "source": [
        "model.add(keras.layers.MaxPooling2D(2))"
      ],
      "execution_count": null,
      "outputs": []
    },
    {
      "cell_type": "code",
      "metadata": {
        "id": "5b5rhLiPa5Zp"
      },
      "source": [
        "model.add(keras.layers.Flatten())\n",
        "model.add(keras.layers.Dense(100,activation='relu'))\n",
        "model.add(keras.layers.Dropout(0.3))\n",
        "model.add(keras.layers.Dense(10,activation='softmax'))"
      ],
      "execution_count": null,
      "outputs": []
    },
    {
      "cell_type": "code",
      "metadata": {
        "colab": {
          "base_uri": "https://localhost:8080/"
        },
        "id": "s6ECPgKbbL7M",
        "outputId": "726d8f22-d1c5-4a13-928f-506fee139462"
      },
      "source": [
        "model.summary()"
      ],
      "execution_count": null,
      "outputs": [
        {
          "output_type": "stream",
          "name": "stdout",
          "text": [
            "Model: \"sequential_10\"\n",
            "_________________________________________________________________\n",
            "Layer (type)                 Output Shape              Param #   \n",
            "=================================================================\n",
            "conv2d_17 (Conv2D)           (None, 100, 100, 64)      640       \n",
            "_________________________________________________________________\n",
            "max_pooling2d_13 (MaxPooling (None, 50, 50, 64)        0         \n",
            "_________________________________________________________________\n",
            "conv2d_18 (Conv2D)           (None, 50, 50, 64)        36928     \n",
            "_________________________________________________________________\n",
            "max_pooling2d_14 (MaxPooling (None, 25, 25, 64)        0         \n",
            "_________________________________________________________________\n",
            "flatten_7 (Flatten)          (None, 40000)             0         \n",
            "_________________________________________________________________\n",
            "dense_14 (Dense)             (None, 100)               4000100   \n",
            "_________________________________________________________________\n",
            "dropout_7 (Dropout)          (None, 100)               0         \n",
            "_________________________________________________________________\n",
            "dense_15 (Dense)             (None, 10)                1010      \n",
            "=================================================================\n",
            "Total params: 4,038,678\n",
            "Trainable params: 4,038,678\n",
            "Non-trainable params: 0\n",
            "_________________________________________________________________\n"
          ]
        }
      ]
    },
    {
      "cell_type": "markdown",
      "metadata": {
        "id": "5n6Vsgx7bT6m"
      },
      "source": [
        "모델컴파일&학습"
      ]
    },
    {
      "cell_type": "code",
      "metadata": {
        "colab": {
          "base_uri": "https://localhost:8080/"
        },
        "id": "uCoet0S5bO1K",
        "outputId": "d4386044-0ae0-42c7-a4bf-7d670e71ff4b"
      },
      "source": [
        "model.compile(optimizer='adam',loss='categorical_crossentropy',metrics='accuracy')\n",
        "checkpoint_cb = keras.callbacks.ModelCheckpoint('best-cnn-kfood.h5')\n",
        "early_stopping_cb = keras.callbacks.EarlyStopping(patience=6,restore_best_weights=True)\n",
        "history = model.fit(trainimg_scaled,trainlabel,epochs=20,validation_data=(valimg_scaled,vallabel),callbacks=[checkpoint_cb,early_stopping_cb])"
      ],
      "execution_count": null,
      "outputs": [
        {
          "output_type": "stream",
          "name": "stdout",
          "text": [
            "Epoch 1/20\n",
            "150/150 [==============================] - 178s 1s/step - loss: 1.1577 - accuracy: 0.6162 - val_loss: 1.9226 - val_accuracy: 0.4729\n",
            "Epoch 2/20\n",
            "150/150 [==============================] - 101s 673ms/step - loss: 0.7812 - accuracy: 0.7449 - val_loss: 2.1236 - val_accuracy: 0.5154\n",
            "Epoch 3/20\n",
            "150/150 [==============================] - 102s 677ms/step - loss: 0.5752 - accuracy: 0.8229 - val_loss: 2.3221 - val_accuracy: 0.5254\n",
            "Epoch 4/20\n",
            "150/150 [==============================] - 102s 680ms/step - loss: 0.4665 - accuracy: 0.8582 - val_loss: 2.6654 - val_accuracy: 0.5438\n",
            "Epoch 5/20\n",
            "150/150 [==============================] - 101s 674ms/step - loss: 0.3833 - accuracy: 0.8892 - val_loss: 2.8183 - val_accuracy: 0.5304\n",
            "Epoch 6/20\n",
            "150/150 [==============================] - 101s 672ms/step - loss: 0.3369 - accuracy: 0.9032 - val_loss: 2.9470 - val_accuracy: 0.5446\n",
            "Epoch 7/20\n",
            "150/150 [==============================] - 102s 678ms/step - loss: 0.2984 - accuracy: 0.9122 - val_loss: 3.2957 - val_accuracy: 0.5505\n"
          ]
        }
      ]
    },
    {
      "cell_type": "code",
      "metadata": {
        "id": "jOxZSb0ocJ0B",
        "colab": {
          "base_uri": "https://localhost:8080/",
          "height": 297
        },
        "outputId": "77ff010b-007f-40ac-8d0c-48ad1a006e02"
      },
      "source": [
        "import matplotlib.pyplot as plt\n",
        "\n",
        "plt.plot(history.history['loss'])\n",
        "plt.plot(history.history['val_loss'])\n",
        "plt.xlabel('epoch')\n",
        "plt.ylabel('loss')\n",
        "plt.legend(['train','val'])"
      ],
      "execution_count": null,
      "outputs": [
        {
          "output_type": "execute_result",
          "data": {
            "text/plain": [
              "<matplotlib.legend.Legend at 0x7fc6dcf2e710>"
            ]
          },
          "metadata": {},
          "execution_count": 132
        },
        {
          "output_type": "display_data",
          "data": {
            "image/png": "[encoded data removed]",
            "text/plain": [
              "<Figure size 432x288 with 1 Axes>"
            ]
          },
          "metadata": {
            "needs_background": "light"
          }
        }
      ]
    },
    {
      "cell_type": "code",
      "metadata": {
        "id": "C9jF9TxN80zz"
      },
      "source": [
        "plt.show()"
      ],
      "execution_count": null,
      "outputs": []
    },
    {
      "cell_type": "code",
      "metadata": {
        "colab": {
          "base_uri": "https://localhost:8080/"
        },
        "id": "WH4pU909832_",
        "outputId": "e90dafe4-f524-48b5-b109-5792be62f620"
      },
      "source": [
        "model.evaluate(valimg_scaled,vallabel)"
      ],
      "execution_count": null,
      "outputs": [
        {
          "output_type": "stream",
          "name": "stdout",
          "text": [
            "38/38 [==============================] - 5s 143ms/step - loss: 1.9226 - accuracy: 0.4729\n"
          ]
        },
        {
          "output_type": "execute_result",
          "data": {
            "text/plain": [
              "[1.9226126670837402, 0.4728940725326538]"
            ]
          },
          "metadata": {},
          "execution_count": 134
        }
      ]
    },
    {
      "cell_type": "code",
      "metadata": {
        "id": "r7GSrZM49BKt"
      },
      "source": [
        ""
      ],
      "execution_count": null,
      "outputs": []
    },
    {
      "cell_type": "markdown",
      "metadata": {
        "id": "95O5IFmd9lHH"
      },
      "source": [
        ""
      ]
    }
  ]
}