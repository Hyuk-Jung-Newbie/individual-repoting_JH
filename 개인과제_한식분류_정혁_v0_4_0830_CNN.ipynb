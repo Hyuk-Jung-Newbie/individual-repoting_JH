{
  "nbformat": 4,
  "nbformat_minor": 0,
  "metadata": {
    "colab": {
      "name": "개인과제_한식분류_정혁_v0.4_0830_CNN.ipynb",
      "provenance": [],
      "collapsed_sections": [],
      "include_colab_link": true
    },
    "kernelspec": {
      "name": "python3",
      "display_name": "Python 3"
    },
    "language_info": {
      "name": "python"
    },
    "accelerator": "GPU"
  },
  "cells": [
    {
      "cell_type": "markdown",
      "metadata": {
        "id": "view-in-github",
        "colab_type": "text"
      },
      "source": [
        "<a href=\"https://colab.research.google.com/github/Hyuk-Jung-Newbie/individual-repoting_JH/blob/main/%EA%B0%9C%EC%9D%B8%EA%B3%BC%EC%A0%9C_%ED%95%9C%EC%8B%9D%EB%B6%84%EB%A5%98_%EC%A0%95%ED%98%81_v0_4_0830_CNN.ipynb\" target=\"_parent\"><img src=\"https://colab.research.google.com/assets/colab-badge.svg\" alt=\"Open In Colab\"/></a>"
      ]
    },
    {
      "cell_type": "code",
      "metadata": {
        "colab": {
          "base_uri": "https://localhost:8080/"
        },
        "id": "zSZfcGfNg4of",
        "outputId": "e73b7224-22f2-4204-823d-6fbaf02d3a42"
      },
      "source": [
        "from google.colab import drive\n",
        "drive.mount('/content/drive')"
      ],
      "execution_count": 1,
      "outputs": [
        {
          "output_type": "stream",
          "text": [
            "Mounted at /content/drive\n"
          ],
          "name": "stdout"
        }
      ]
    },
    {
      "cell_type": "code",
      "metadata": {
        "colab": {
          "base_uri": "https://localhost:8080/"
        },
        "id": "5nhZ_2SjkGl-",
        "outputId": "54421a64-5462-46ff-bf6f-a3049384043d"
      },
      "source": [
        "cd/content/drive/MyDrive/KU_LGCNS21/K-FOOD"
      ],
      "execution_count": 2,
      "outputs": [
        {
          "output_type": "stream",
          "text": [
            "/content/drive/MyDrive/KU_LGCNS21/K-FOOD\n"
          ],
          "name": "stdout"
        }
      ]
    },
    {
      "cell_type": "code",
      "metadata": {
        "colab": {
          "base_uri": "https://localhost:8080/"
        },
        "id": "laiGlOSwmOLx",
        "outputId": "bb74f9be-a224-4002-ca46-e319397adf0a"
      },
      "source": [
        "pip install imageio"
      ],
      "execution_count": 3,
      "outputs": [
        {
          "output_type": "stream",
          "text": [
            "Requirement already satisfied: imageio in /usr/local/lib/python3.7/dist-packages (2.4.1)\n",
            "Requirement already satisfied: pillow in /usr/local/lib/python3.7/dist-packages (from imageio) (7.1.2)\n",
            "Requirement already satisfied: numpy in /usr/local/lib/python3.7/dist-packages (from imageio) (1.19.5)\n"
          ],
          "name": "stdout"
        }
      ]
    },
    {
      "cell_type": "code",
      "metadata": {
        "id": "SvAcYMW13-rC"
      },
      "source": [
        "import tensorflow as tf\n",
        "import numpy as np\n",
        "from skimage import io\n",
        "from skimage.transform import rescale,resize,downscale_local_mean\n",
        "import cv2\n",
        "import os\n",
        "import PIL\n",
        "from PIL import Image\n",
        "import tensorflow_datasets as tfds\n",
        "from google.colab.patches import cv2_imshow\n",
        "from tensorflow.keras import datasets, layers, models\n",
        "import matplotlib.pyplot as plt\n",
        "from google.colab import drive\n",
        "from imageio import imread"
      ],
      "execution_count": 4,
      "outputs": []
    },
    {
      "cell_type": "code",
      "metadata": {
        "colab": {
          "base_uri": "https://localhost:8080/"
        },
        "id": "_A3Y7JDPUpWQ",
        "outputId": "3de25472-8086-45c7-8c95-0c24030d4432"
      },
      "source": [
        "\n",
        "%matplotlib inline  \n",
        "print (\"Package loaded\") \n",
        "cwd = os.getcwd()\n",
        "print (\"Current folder is %s\" % (cwd) )"
      ],
      "execution_count": 5,
      "outputs": [
        {
          "output_type": "stream",
          "text": [
            "Package loaded\n",
            "Current folder is /content/drive/MyDrive/KU_LGCNS21/K-FOOD\n"
          ],
          "name": "stdout"
        }
      ]
    },
    {
      "cell_type": "code",
      "metadata": {
        "id": "AYYNlHbpalPS",
        "colab": {
          "base_uri": "https://localhost:8080/"
        },
        "outputId": "e1fe9da5-c10d-47e8-d408-3cebea79b377"
      },
      "source": [
        "# Training set folder \n",
        "\n",
        "paths = {\"1.Stir-fried eggplant\",\"2.Soy Sauce Marinated Crab\",\"3.Grilled Short Ribs\",\"4.Braised Short Ribs\",\"5.Short rib soup\",\n",
        "         \"6.Grilled hairtail\",\"7.Braised Cutlassfish\",\"8.potato pancake\",\"9.Braised potatoes\",\"10.Stir-fried shredded potatoes\",\n",
        "         \"11.Pork Back-bone Stew\",\"12.Gatkimchi\",\"13.Stir-fried dried shrimp\",\"14.Hardwood\",\"15.egg soup\",\"16.Rolled Omelet\",\"17.Steamed eggs\",\"18.Fried egg\",\"19.Grilled mackerel\",\"20.Braised mackerel\",\n",
        "         \"21.bracken sprouts\",\"22.Stir-fried red pepper paste and dried squid\",\"23.Fried chili pepper\",\"24.Beef Bone Soup_Seolleongtang\",\"25.Grilled tripe\",\n",
        "         \"26.Tripe hot pot\",\"27.Half-dried herring\",\"28.rice roll\",\"29.Kimchi fried rice\",\"30.Kimchi pancake\",\n",
        "         \"31.Kimchi stew\",\"32.Braised Kimchi\",\"33.cubed radish kimchi\",\"34.Pickled perilla leaves\",\"35.Braised cockles\",\n",
        "         \"36.Braised saury\",\"37.Fried red pepper salad\",\"38.honey rice cake\",\"39.Nabak Kimchi\",\"40.crispy rice crust\",\n",
        "         \"41.Spicy grilled chicken\",\"42.Chicken creek\",\"43.Braised Spicy Chicken\",\"44.Grilled deodeok\",\"45.Bellflower root seasoned\",\n",
        "         \"46.Acorn jello\",\"47.Korean style meatball\",\"48.Stew made with frozen pollack\",\"49.bean paste stew\",\"50.tofu kimchi\",\n",
        "         \"51.Braised tofu\",\"52.Braised peanuts\",\"53.Grilled short rib patties\",\"54.Tteokguk_Dumpling Soup\",\"55.Rice cake skewer\",\n",
        "         \"56.stir-fried Rice Cake\",\"57.Ramen\",\"58.Rabokki\",\"59.Mak noodle\",\"60.dumpling\",\n",
        "         \"61.Spicy fish stew\",\"62.Sea squirt\",\"63.Boiled quail eggs\",\"64.Stir-fried anchovies\",\"65.State of the Union\",\n",
        "         \"66.Raw radish salad\",\"67.Cold noodles with water\",\"68.Seaweed soup\",\"69.Stir-fried seaweed stems\",\"70.cabbage kimchi\",\n",
        "         \"71.White kimchi\",\"72.Bossam\",\"73.Chive Kimchi\",\"74.Dried pollack soup\",\"75.Bulgogi\",\n",
        "         \"76.Spicy Cold Noodles\",\"77.bibimbap\",\"78.Sliced Raw Octopus\",\"79.Pork belly\",\"80.Samgyetang\",\n",
        "         \"81.Shrimp fried rice\",\"82.fried shrimp\",\"83.Fish pancake\",\"84.Stir-fried sausage\",\"85.Songpyeon\",\n",
        "         \"86.boiled pork\",\"87.Sujeonggwa\",\"88.Sujebi\",\"89.Bean sprouts\",\"90.Sundae\",\n",
        "         \"91.Soft tofu stew\",\"92.Spinach greens\",\"93.Siregi Province\",\"94.Sikhye\",\"95.rice with roe\",\n",
        "         \"96.Stir-fried zucchini\",\"97.Yakgwa\",\"98.Abbreviation\",\"99.Spicy Marinated Crab\",\"100.seasoned spicy chicken\",\n",
        "         \"101.Stir-fried fish cake\",\"102.Braised lotus roots\",\"103.young radish noodles\",\"104.young radish kimchi\",\"105.Oisobak\",\n",
        "         \"106.Stir-fried dried squid\",\"107.Fried squid\",\"108.Boiled burdock\",\"109.fried tofu sushi\",\"110.hot spicy meat stew\",\n",
        "         \"111.Banquet noodles\",\"112.multi-grain rice\",\"113.Japchae\",\"114.Grilled eel\",\"115.Jangjorim\",\n",
        "         \"116.Abalone porridge\",\"117.salted seafood\",\"118.Jeyuk bokkeum\",\"119.Roasting clams\",\"120.prematurely\",\n",
        "         \"121.pig hocks\",\"122.Stir-fried webfoot octopus\",\"123.Rice ball\",\"124.Black-bean-sauce noodles\",\"125.Jjambbong\",\n",
        "         \"126.Jjolmyeon\",\"127.Jjimdak\",\"128.radish kimchi\",\"129.Chueotang\",\"130.Kalguksu\",\n",
        "         \"131.Braised pollack\",\"132.Cold bean noodles\",\"133.bean sprout soup\",\"134.seasoned bean sprouts\",\"135.Seasoned beans\",\n",
        "         \"136.Green onion kimchi\",\"137.Pajeon\",\"138.Pyeonyuk\",\"139.Pizza\",\"140.Korean traditional cookie\",\n",
        "         \"141.steamed seafood\",\"142.Pumpkin pancake\",\"143.Pumpkin porridge\",\"144.seasoned skate\",\"145.Grilled Dried Pollack\",\n",
        "         \"146.Raw fish salad\",\"147.Fried chicken\",\"148.Smoked duck\"}\n",
        "         \n",
        "# The reshape size\n",
        "imgsize = [64, 64]\n",
        "# Grayscale\n",
        "use_gray = 1\n",
        "# Save name\n",
        "data_name = \"custom_data\"\n",
        "\n",
        "print (\"Your images should be at\")\n",
        "for i, path in enumerate(paths):\n",
        "    print (\" [%d/%d] %s/%s\" % (i, len(paths), cwd, path)) \n",
        "\n",
        "print (\"Data will be saved to %s\" \n",
        "       % (cwd + '/data/' + data_name + '.npz'))"
      ],
      "execution_count": 6,
      "outputs": [
        {
          "output_type": "stream",
          "text": [
            "Your images should be at\n",
            " [0/148] /content/drive/MyDrive/KU_LGCNS21/K-FOOD/99.Spicy Marinated Crab\n",
            " [1/148] /content/drive/MyDrive/KU_LGCNS21/K-FOOD/14.Hardwood\n",
            " [2/148] /content/drive/MyDrive/KU_LGCNS21/K-FOOD/11.Pork Back-bone Stew\n",
            " [3/148] /content/drive/MyDrive/KU_LGCNS21/K-FOOD/46.Acorn jello\n",
            " [4/148] /content/drive/MyDrive/KU_LGCNS21/K-FOOD/96.Stir-fried zucchini\n",
            " [5/148] /content/drive/MyDrive/KU_LGCNS21/K-FOOD/123.Rice ball\n",
            " [6/148] /content/drive/MyDrive/KU_LGCNS21/K-FOOD/61.Spicy fish stew\n",
            " [7/148] /content/drive/MyDrive/KU_LGCNS21/K-FOOD/107.Fried squid\n",
            " [8/148] /content/drive/MyDrive/KU_LGCNS21/K-FOOD/12.Gatkimchi\n",
            " [9/148] /content/drive/MyDrive/KU_LGCNS21/K-FOOD/53.Grilled short rib patties\n",
            " [10/148] /content/drive/MyDrive/KU_LGCNS21/K-FOOD/86.boiled pork\n",
            " [11/148] /content/drive/MyDrive/KU_LGCNS21/K-FOOD/18.Fried egg\n",
            " [12/148] /content/drive/MyDrive/KU_LGCNS21/K-FOOD/136.Green onion kimchi\n",
            " [13/148] /content/drive/MyDrive/KU_LGCNS21/K-FOOD/88.Sujebi\n",
            " [14/148] /content/drive/MyDrive/KU_LGCNS21/K-FOOD/114.Grilled eel\n",
            " [15/148] /content/drive/MyDrive/KU_LGCNS21/K-FOOD/20.Braised mackerel\n",
            " [16/148] /content/drive/MyDrive/KU_LGCNS21/K-FOOD/44.Grilled deodeok\n",
            " [17/148] /content/drive/MyDrive/KU_LGCNS21/K-FOOD/106.Stir-fried dried squid\n",
            " [18/148] /content/drive/MyDrive/KU_LGCNS21/K-FOOD/6.Grilled hairtail\n",
            " [19/148] /content/drive/MyDrive/KU_LGCNS21/K-FOOD/146.Raw fish salad\n",
            " [20/148] /content/drive/MyDrive/KU_LGCNS21/K-FOOD/28.rice roll\n",
            " [21/148] /content/drive/MyDrive/KU_LGCNS21/K-FOOD/78.Sliced Raw Octopus\n",
            " [22/148] /content/drive/MyDrive/KU_LGCNS21/K-FOOD/9.Braised potatoes\n",
            " [23/148] /content/drive/MyDrive/KU_LGCNS21/K-FOOD/148.Smoked duck\n",
            " [24/148] /content/drive/MyDrive/KU_LGCNS21/K-FOOD/85.Songpyeon\n",
            " [25/148] /content/drive/MyDrive/KU_LGCNS21/K-FOOD/103.young radish noodles\n",
            " [26/148] /content/drive/MyDrive/KU_LGCNS21/K-FOOD/5.Short rib soup\n",
            " [27/148] /content/drive/MyDrive/KU_LGCNS21/K-FOOD/143.Pumpkin porridge\n",
            " [28/148] /content/drive/MyDrive/KU_LGCNS21/K-FOOD/110.hot spicy meat stew\n",
            " [29/148] /content/drive/MyDrive/KU_LGCNS21/K-FOOD/15.egg soup\n",
            " [30/148] /content/drive/MyDrive/KU_LGCNS21/K-FOOD/122.Stir-fried webfoot octopus\n",
            " [31/148] /content/drive/MyDrive/KU_LGCNS21/K-FOOD/129.Chueotang\n",
            " [32/148] /content/drive/MyDrive/KU_LGCNS21/K-FOOD/76.Spicy Cold Noodles\n",
            " [33/148] /content/drive/MyDrive/KU_LGCNS21/K-FOOD/4.Braised Short Ribs\n",
            " [34/148] /content/drive/MyDrive/KU_LGCNS21/K-FOOD/56.stir-fried Rice Cake\n",
            " [35/148] /content/drive/MyDrive/KU_LGCNS21/K-FOOD/58.Rabokki\n",
            " [36/148] /content/drive/MyDrive/KU_LGCNS21/K-FOOD/118.Jeyuk bokkeum\n",
            " [37/148] /content/drive/MyDrive/KU_LGCNS21/K-FOOD/145.Grilled Dried Pollack\n",
            " [38/148] /content/drive/MyDrive/KU_LGCNS21/K-FOOD/32.Braised Kimchi\n",
            " [39/148] /content/drive/MyDrive/KU_LGCNS21/K-FOOD/109.fried tofu sushi\n",
            " [40/148] /content/drive/MyDrive/KU_LGCNS21/K-FOOD/144.seasoned skate\n",
            " [41/148] /content/drive/MyDrive/KU_LGCNS21/K-FOOD/87.Sujeonggwa\n",
            " [42/148] /content/drive/MyDrive/KU_LGCNS21/K-FOOD/92.Spinach greens\n",
            " [43/148] /content/drive/MyDrive/KU_LGCNS21/K-FOOD/132.Cold bean noodles\n",
            " [44/148] /content/drive/MyDrive/KU_LGCNS21/K-FOOD/84.Stir-fried sausage\n",
            " [45/148] /content/drive/MyDrive/KU_LGCNS21/K-FOOD/141.steamed seafood\n",
            " [46/148] /content/drive/MyDrive/KU_LGCNS21/K-FOOD/29.Kimchi fried rice\n",
            " [47/148] /content/drive/MyDrive/KU_LGCNS21/K-FOOD/80.Samgyetang\n",
            " [48/148] /content/drive/MyDrive/KU_LGCNS21/K-FOOD/16.Rolled Omelet\n",
            " [49/148] /content/drive/MyDrive/KU_LGCNS21/K-FOOD/57.Ramen\n",
            " [50/148] /content/drive/MyDrive/KU_LGCNS21/K-FOOD/71.White kimchi\n",
            " [51/148] /content/drive/MyDrive/KU_LGCNS21/K-FOOD/1.Stir-fried eggplant\n",
            " [52/148] /content/drive/MyDrive/KU_LGCNS21/K-FOOD/63.Boiled quail eggs\n",
            " [53/148] /content/drive/MyDrive/KU_LGCNS21/K-FOOD/30.Kimchi pancake\n",
            " [54/148] /content/drive/MyDrive/KU_LGCNS21/K-FOOD/139.Pizza\n",
            " [55/148] /content/drive/MyDrive/KU_LGCNS21/K-FOOD/135.Seasoned beans\n",
            " [56/148] /content/drive/MyDrive/KU_LGCNS21/K-FOOD/66.Raw radish salad\n",
            " [57/148] /content/drive/MyDrive/KU_LGCNS21/K-FOOD/34.Pickled perilla leaves\n",
            " [58/148] /content/drive/MyDrive/KU_LGCNS21/K-FOOD/117.salted seafood\n",
            " [59/148] /content/drive/MyDrive/KU_LGCNS21/K-FOOD/35.Braised cockles\n",
            " [60/148] /content/drive/MyDrive/KU_LGCNS21/K-FOOD/147.Fried chicken\n",
            " [61/148] /content/drive/MyDrive/KU_LGCNS21/K-FOOD/140.Korean traditional cookie\n",
            " [62/148] /content/drive/MyDrive/KU_LGCNS21/K-FOOD/26.Tripe hot pot\n",
            " [63/148] /content/drive/MyDrive/KU_LGCNS21/K-FOOD/31.Kimchi stew\n",
            " [64/148] /content/drive/MyDrive/KU_LGCNS21/K-FOOD/81.Shrimp fried rice\n",
            " [65/148] /content/drive/MyDrive/KU_LGCNS21/K-FOOD/134.seasoned bean sprouts\n",
            " [66/148] /content/drive/MyDrive/KU_LGCNS21/K-FOOD/52.Braised peanuts\n",
            " [67/148] /content/drive/MyDrive/KU_LGCNS21/K-FOOD/33.cubed radish kimchi\n",
            " [68/148] /content/drive/MyDrive/KU_LGCNS21/K-FOOD/142.Pumpkin pancake\n",
            " [69/148] /content/drive/MyDrive/KU_LGCNS21/K-FOOD/115.Jangjorim\n",
            " [70/148] /content/drive/MyDrive/KU_LGCNS21/K-FOOD/51.Braised tofu\n",
            " [71/148] /content/drive/MyDrive/KU_LGCNS21/K-FOOD/54.Tteokguk_Dumpling Soup\n",
            " [72/148] /content/drive/MyDrive/KU_LGCNS21/K-FOOD/70.cabbage kimchi\n",
            " [73/148] /content/drive/MyDrive/KU_LGCNS21/K-FOOD/27.Half-dried herring\n",
            " [74/148] /content/drive/MyDrive/KU_LGCNS21/K-FOOD/55.Rice cake skewer\n",
            " [75/148] /content/drive/MyDrive/KU_LGCNS21/K-FOOD/68.Seaweed soup\n",
            " [76/148] /content/drive/MyDrive/KU_LGCNS21/K-FOOD/3.Grilled Short Ribs\n",
            " [77/148] /content/drive/MyDrive/KU_LGCNS21/K-FOOD/24.Beef Bone Soup_Seolleongtang\n",
            " [78/148] /content/drive/MyDrive/KU_LGCNS21/K-FOOD/101.Stir-fried fish cake\n",
            " [79/148] /content/drive/MyDrive/KU_LGCNS21/K-FOOD/7.Braised Cutlassfish\n",
            " [80/148] /content/drive/MyDrive/KU_LGCNS21/K-FOOD/13.Stir-fried dried shrimp\n",
            " [81/148] /content/drive/MyDrive/KU_LGCNS21/K-FOOD/74.Dried pollack soup\n",
            " [82/148] /content/drive/MyDrive/KU_LGCNS21/K-FOOD/69.Stir-fried seaweed stems\n",
            " [83/148] /content/drive/MyDrive/KU_LGCNS21/K-FOOD/91.Soft tofu stew\n",
            " [84/148] /content/drive/MyDrive/KU_LGCNS21/K-FOOD/100.seasoned spicy chicken\n",
            " [85/148] /content/drive/MyDrive/KU_LGCNS21/K-FOOD/128.radish kimchi\n",
            " [86/148] /content/drive/MyDrive/KU_LGCNS21/K-FOOD/59.Mak noodle\n",
            " [87/148] /content/drive/MyDrive/KU_LGCNS21/K-FOOD/40.crispy rice crust\n",
            " [88/148] /content/drive/MyDrive/KU_LGCNS21/K-FOOD/19.Grilled mackerel\n",
            " [89/148] /content/drive/MyDrive/KU_LGCNS21/K-FOOD/94.Sikhye\n",
            " [90/148] /content/drive/MyDrive/KU_LGCNS21/K-FOOD/73.Chive Kimchi\n",
            " [91/148] /content/drive/MyDrive/KU_LGCNS21/K-FOOD/83.Fish pancake\n",
            " [92/148] /content/drive/MyDrive/KU_LGCNS21/K-FOOD/97.Yakgwa\n",
            " [93/148] /content/drive/MyDrive/KU_LGCNS21/K-FOOD/89.Bean sprouts\n",
            " [94/148] /content/drive/MyDrive/KU_LGCNS21/K-FOOD/125.Jjambbong\n",
            " [95/148] /content/drive/MyDrive/KU_LGCNS21/K-FOOD/127.Jjimdak\n",
            " [96/148] /content/drive/MyDrive/KU_LGCNS21/K-FOOD/37.Fried red pepper salad\n",
            " [97/148] /content/drive/MyDrive/KU_LGCNS21/K-FOOD/22.Stir-fried red pepper paste and dried squid\n",
            " [98/148] /content/drive/MyDrive/KU_LGCNS21/K-FOOD/82.fried shrimp\n",
            " [99/148] /content/drive/MyDrive/KU_LGCNS21/K-FOOD/113.Japchae\n",
            " [100/148] /content/drive/MyDrive/KU_LGCNS21/K-FOOD/72.Bossam\n",
            " [101/148] /content/drive/MyDrive/KU_LGCNS21/K-FOOD/75.Bulgogi\n",
            " [102/148] /content/drive/MyDrive/KU_LGCNS21/K-FOOD/49.bean paste stew\n",
            " [103/148] /content/drive/MyDrive/KU_LGCNS21/K-FOOD/23.Fried chili pepper\n",
            " [104/148] /content/drive/MyDrive/KU_LGCNS21/K-FOOD/102.Braised lotus roots\n",
            " [105/148] /content/drive/MyDrive/KU_LGCNS21/K-FOOD/105.Oisobak\n",
            " [106/148] /content/drive/MyDrive/KU_LGCNS21/K-FOOD/67.Cold noodles with water\n",
            " [107/148] /content/drive/MyDrive/KU_LGCNS21/K-FOOD/50.tofu kimchi\n",
            " [108/148] /content/drive/MyDrive/KU_LGCNS21/K-FOOD/137.Pajeon\n",
            " [109/148] /content/drive/MyDrive/KU_LGCNS21/K-FOOD/10.Stir-fried shredded potatoes\n",
            " [110/148] /content/drive/MyDrive/KU_LGCNS21/K-FOOD/130.Kalguksu\n",
            " [111/148] /content/drive/MyDrive/KU_LGCNS21/K-FOOD/138.Pyeonyuk\n",
            " [112/148] /content/drive/MyDrive/KU_LGCNS21/K-FOOD/126.Jjolmyeon\n",
            " [113/148] /content/drive/MyDrive/KU_LGCNS21/K-FOOD/45.Bellflower root seasoned\n",
            " [114/148] /content/drive/MyDrive/KU_LGCNS21/K-FOOD/65.State of the Union\n",
            " [115/148] /content/drive/MyDrive/KU_LGCNS21/K-FOOD/41.Spicy grilled chicken\n",
            " [116/148] /content/drive/MyDrive/KU_LGCNS21/K-FOOD/38.honey rice cake\n",
            " [117/148] /content/drive/MyDrive/KU_LGCNS21/K-FOOD/48.Stew made with frozen pollack\n",
            " [118/148] /content/drive/MyDrive/KU_LGCNS21/K-FOOD/2.Soy Sauce Marinated Crab\n",
            " [119/148] /content/drive/MyDrive/KU_LGCNS21/K-FOOD/104.young radish kimchi\n",
            " [120/148] /content/drive/MyDrive/KU_LGCNS21/K-FOOD/64.Stir-fried anchovies\n",
            " [121/148] /content/drive/MyDrive/KU_LGCNS21/K-FOOD/21.bracken sprouts\n",
            " [122/148] /content/drive/MyDrive/KU_LGCNS21/K-FOOD/98.Abbreviation\n",
            " [123/148] /content/drive/MyDrive/KU_LGCNS21/K-FOOD/133.bean sprout soup\n",
            " [124/148] /content/drive/MyDrive/KU_LGCNS21/K-FOOD/90.Sundae\n",
            " [125/148] /content/drive/MyDrive/KU_LGCNS21/K-FOOD/111.Banquet noodles\n",
            " [126/148] /content/drive/MyDrive/KU_LGCNS21/K-FOOD/42.Chicken creek\n",
            " [127/148] /content/drive/MyDrive/KU_LGCNS21/K-FOOD/124.Black-bean-sauce noodles\n",
            " [128/148] /content/drive/MyDrive/KU_LGCNS21/K-FOOD/25.Grilled tripe\n",
            " [129/148] /content/drive/MyDrive/KU_LGCNS21/K-FOOD/95.rice with roe\n",
            " [130/148] /content/drive/MyDrive/KU_LGCNS21/K-FOOD/120.prematurely\n",
            " [131/148] /content/drive/MyDrive/KU_LGCNS21/K-FOOD/112.multi-grain rice\n",
            " [132/148] /content/drive/MyDrive/KU_LGCNS21/K-FOOD/39.Nabak Kimchi\n",
            " [133/148] /content/drive/MyDrive/KU_LGCNS21/K-FOOD/108.Boiled burdock\n",
            " [134/148] /content/drive/MyDrive/KU_LGCNS21/K-FOOD/116.Abalone porridge\n",
            " [135/148] /content/drive/MyDrive/KU_LGCNS21/K-FOOD/47.Korean style meatball\n",
            " [136/148] /content/drive/MyDrive/KU_LGCNS21/K-FOOD/79.Pork belly\n",
            " [137/148] /content/drive/MyDrive/KU_LGCNS21/K-FOOD/60.dumpling\n",
            " [138/148] /content/drive/MyDrive/KU_LGCNS21/K-FOOD/77.bibimbap\n",
            " [139/148] /content/drive/MyDrive/KU_LGCNS21/K-FOOD/119.Roasting clams\n",
            " [140/148] /content/drive/MyDrive/KU_LGCNS21/K-FOOD/93.Siregi Province\n",
            " [141/148] /content/drive/MyDrive/KU_LGCNS21/K-FOOD/62.Sea squirt\n",
            " [142/148] /content/drive/MyDrive/KU_LGCNS21/K-FOOD/131.Braised pollack\n",
            " [143/148] /content/drive/MyDrive/KU_LGCNS21/K-FOOD/8.potato pancake\n",
            " [144/148] /content/drive/MyDrive/KU_LGCNS21/K-FOOD/36.Braised saury\n",
            " [145/148] /content/drive/MyDrive/KU_LGCNS21/K-FOOD/121.pig hocks\n",
            " [146/148] /content/drive/MyDrive/KU_LGCNS21/K-FOOD/17.Steamed eggs\n",
            " [147/148] /content/drive/MyDrive/KU_LGCNS21/K-FOOD/43.Braised Spicy Chicken\n",
            "Data will be saved to /content/drive/MyDrive/KU_LGCNS21/K-FOOD/data/custom_data.npz\n"
          ],
          "name": "stdout"
        }
      ]
    },
    {
      "cell_type": "code",
      "metadata": {
        "id": "PvrX54FWX1df"
      },
      "source": [
        "def rgb2gray(rgb):\n",
        "    if len(rgb.shape) is 3:\n",
        "        return np.dot(rgb[...,:3], [0.299, 0.587, 0.114])\n",
        "    else:\n",
        "        # print (\"Current Image if GRAY!\")\n",
        "        return rgb"
      ],
      "execution_count": 7,
      "outputs": []
    },
    {
      "cell_type": "code",
      "metadata": {
        "colab": {
          "base_uri": "https://localhost:8080/"
        },
        "id": "iYC567HCrmoI",
        "outputId": "b8faa276-ded9-420c-879c-fc51e286aef7"
      },
      "source": [
        "nclass     = len(paths)\n",
        "valid_exts = [\".jpg\",\".gif\",\".png\",\".tga\", \".jpeg\"]\n",
        "imgcnt     = 0\n",
        "for i, relpath in zip(range(nclass), paths):\n",
        "    path = cwd + \"/\" + relpath\n",
        "    flist = sorted(os.listdir(path))\n",
        "    for f in flist:\n",
        "        if os.path.splitext(f)[1].lower() not in valid_exts:\n",
        "            continue\n",
        "        fullpath = os.path.join(path, f)        \n",
        "        ## open cv 이용\n",
        "        try:\n",
        "          currimg=cv2.imread(fullpath, cv2.IMREAD_GRAYSCALE)\n",
        "          currimg_small=cv2.resize(currimg, (100, 100))\n",
        "        except Exception as e:\n",
        "          print(str(e))\n",
        "          continue      \n",
        "        currimgvec   = np.reshape(currimg_small, (1, -1))\n",
        "        # Save \n",
        "        curr_label = np.eye(nclass, nclass)[i:i+1, :]\n",
        "        if imgcnt is 0:\n",
        "            totalimg   = currimgvec\n",
        "            totallabel = curr_label\n",
        "        else:\n",
        "            totalimg   = np.concatenate((totalimg, currimgvec), axis=0)\n",
        "            totallabel = np.concatenate((totallabel, curr_label), axis=0)\n",
        "        imgcnt    = imgcnt + 1\n",
        "print (\"Total %d images loaded.\" % (imgcnt))"
      ],
      "execution_count": null,
      "outputs": [
        {
          "output_type": "stream",
          "text": [
            "OpenCV(4.1.2) /io/opencv/modules/imgproc/src/resize.cpp:3720: error: (-215:Assertion failed) !ssize.empty() in function 'resize'\n",
            "\n",
            "OpenCV(4.1.2) /io/opencv/modules/imgproc/src/resize.cpp:3720: error: (-215:Assertion failed) !ssize.empty() in function 'resize'\n",
            "\n",
            "OpenCV(4.1.2) /io/opencv/modules/imgproc/src/resize.cpp:3720: error: (-215:Assertion failed) !ssize.empty() in function 'resize'\n",
            "\n",
            "OpenCV(4.1.2) /io/opencv/modules/imgproc/src/resize.cpp:3720: error: (-215:Assertion failed) !ssize.empty() in function 'resize'\n",
            "\n",
            "OpenCV(4.1.2) /io/opencv/modules/imgproc/src/resize.cpp:3720: error: (-215:Assertion failed) !ssize.empty() in function 'resize'\n",
            "\n",
            "OpenCV(4.1.2) /io/opencv/modules/imgproc/src/resize.cpp:3720: error: (-215:Assertion failed) !ssize.empty() in function 'resize'\n",
            "\n",
            "OpenCV(4.1.2) /io/opencv/modules/imgproc/src/resize.cpp:3720: error: (-215:Assertion failed) !ssize.empty() in function 'resize'\n",
            "\n",
            "OpenCV(4.1.2) /io/opencv/modules/imgproc/src/resize.cpp:3720: error: (-215:Assertion failed) !ssize.empty() in function 'resize'\n",
            "\n",
            "OpenCV(4.1.2) /io/opencv/modules/imgproc/src/resize.cpp:3720: error: (-215:Assertion failed) !ssize.empty() in function 'resize'\n",
            "\n",
            "OpenCV(4.1.2) /io/opencv/modules/imgproc/src/resize.cpp:3720: error: (-215:Assertion failed) !ssize.empty() in function 'resize'\n",
            "\n",
            "OpenCV(4.1.2) /io/opencv/modules/imgproc/src/resize.cpp:3720: error: (-215:Assertion failed) !ssize.empty() in function 'resize'\n",
            "\n",
            "OpenCV(4.1.2) /io/opencv/modules/imgproc/src/resize.cpp:3720: error: (-215:Assertion failed) !ssize.empty() in function 'resize'\n",
            "\n",
            "OpenCV(4.1.2) /io/opencv/modules/imgproc/src/resize.cpp:3720: error: (-215:Assertion failed) !ssize.empty() in function 'resize'\n",
            "\n",
            "OpenCV(4.1.2) /io/opencv/modules/imgproc/src/resize.cpp:3720: error: (-215:Assertion failed) !ssize.empty() in function 'resize'\n",
            "\n",
            "OpenCV(4.1.2) /io/opencv/modules/imgproc/src/resize.cpp:3720: error: (-215:Assertion failed) !ssize.empty() in function 'resize'\n",
            "\n",
            "OpenCV(4.1.2) /io/opencv/modules/imgproc/src/resize.cpp:3720: error: (-215:Assertion failed) !ssize.empty() in function 'resize'\n",
            "\n",
            "OpenCV(4.1.2) /io/opencv/modules/imgproc/src/resize.cpp:3720: error: (-215:Assertion failed) !ssize.empty() in function 'resize'\n",
            "\n",
            "OpenCV(4.1.2) /io/opencv/modules/imgproc/src/resize.cpp:3720: error: (-215:Assertion failed) !ssize.empty() in function 'resize'\n",
            "\n",
            "OpenCV(4.1.2) /io/opencv/modules/imgproc/src/resize.cpp:3720: error: (-215:Assertion failed) !ssize.empty() in function 'resize'\n",
            "\n",
            "OpenCV(4.1.2) /io/opencv/modules/imgproc/src/resize.cpp:3720: error: (-215:Assertion failed) !ssize.empty() in function 'resize'\n",
            "\n",
            "OpenCV(4.1.2) /io/opencv/modules/imgproc/src/resize.cpp:3720: error: (-215:Assertion failed) !ssize.empty() in function 'resize'\n",
            "\n",
            "OpenCV(4.1.2) /io/opencv/modules/imgproc/src/resize.cpp:3720: error: (-215:Assertion failed) !ssize.empty() in function 'resize'\n",
            "\n",
            "OpenCV(4.1.2) /io/opencv/modules/imgproc/src/resize.cpp:3720: error: (-215:Assertion failed) !ssize.empty() in function 'resize'\n",
            "\n",
            "OpenCV(4.1.2) /io/opencv/modules/imgproc/src/resize.cpp:3720: error: (-215:Assertion failed) !ssize.empty() in function 'resize'\n",
            "\n",
            "OpenCV(4.1.2) /io/opencv/modules/imgproc/src/resize.cpp:3720: error: (-215:Assertion failed) !ssize.empty() in function 'resize'\n",
            "\n",
            "OpenCV(4.1.2) /io/opencv/modules/imgproc/src/resize.cpp:3720: error: (-215:Assertion failed) !ssize.empty() in function 'resize'\n",
            "\n",
            "OpenCV(4.1.2) /io/opencv/modules/imgproc/src/resize.cpp:3720: error: (-215:Assertion failed) !ssize.empty() in function 'resize'\n",
            "\n",
            "OpenCV(4.1.2) /io/opencv/modules/imgproc/src/resize.cpp:3720: error: (-215:Assertion failed) !ssize.empty() in function 'resize'\n",
            "\n",
            "OpenCV(4.1.2) /io/opencv/modules/imgproc/src/resize.cpp:3720: error: (-215:Assertion failed) !ssize.empty() in function 'resize'\n",
            "\n",
            "OpenCV(4.1.2) /io/opencv/modules/imgproc/src/resize.cpp:3720: error: (-215:Assertion failed) !ssize.empty() in function 'resize'\n",
            "\n",
            "OpenCV(4.1.2) /io/opencv/modules/imgproc/src/resize.cpp:3720: error: (-215:Assertion failed) !ssize.empty() in function 'resize'\n",
            "\n",
            "OpenCV(4.1.2) /io/opencv/modules/imgproc/src/resize.cpp:3720: error: (-215:Assertion failed) !ssize.empty() in function 'resize'\n",
            "\n",
            "OpenCV(4.1.2) /io/opencv/modules/imgproc/src/resize.cpp:3720: error: (-215:Assertion failed) !ssize.empty() in function 'resize'\n",
            "\n",
            "OpenCV(4.1.2) /io/opencv/modules/imgproc/src/resize.cpp:3720: error: (-215:Assertion failed) !ssize.empty() in function 'resize'\n",
            "\n",
            "OpenCV(4.1.2) /io/opencv/modules/imgproc/src/resize.cpp:3720: error: (-215:Assertion failed) !ssize.empty() in function 'resize'\n",
            "\n",
            "OpenCV(4.1.2) /io/opencv/modules/imgproc/src/resize.cpp:3720: error: (-215:Assertion failed) !ssize.empty() in function 'resize'\n",
            "\n",
            "OpenCV(4.1.2) /io/opencv/modules/imgproc/src/resize.cpp:3720: error: (-215:Assertion failed) !ssize.empty() in function 'resize'\n",
            "\n",
            "OpenCV(4.1.2) /io/opencv/modules/imgproc/src/resize.cpp:3720: error: (-215:Assertion failed) !ssize.empty() in function 'resize'\n",
            "\n",
            "OpenCV(4.1.2) /io/opencv/modules/imgproc/src/resize.cpp:3720: error: (-215:Assertion failed) !ssize.empty() in function 'resize'\n",
            "\n",
            "OpenCV(4.1.2) /io/opencv/modules/imgproc/src/resize.cpp:3720: error: (-215:Assertion failed) !ssize.empty() in function 'resize'\n",
            "\n",
            "OpenCV(4.1.2) /io/opencv/modules/imgproc/src/resize.cpp:3720: error: (-215:Assertion failed) !ssize.empty() in function 'resize'\n",
            "\n",
            "OpenCV(4.1.2) /io/opencv/modules/imgproc/src/resize.cpp:3720: error: (-215:Assertion failed) !ssize.empty() in function 'resize'\n",
            "\n",
            "OpenCV(4.1.2) /io/opencv/modules/imgproc/src/resize.cpp:3720: error: (-215:Assertion failed) !ssize.empty() in function 'resize'\n",
            "\n",
            "OpenCV(4.1.2) /io/opencv/modules/imgproc/src/resize.cpp:3720: error: (-215:Assertion failed) !ssize.empty() in function 'resize'\n",
            "\n",
            "OpenCV(4.1.2) /io/opencv/modules/imgproc/src/resize.cpp:3720: error: (-215:Assertion failed) !ssize.empty() in function 'resize'\n",
            "\n",
            "OpenCV(4.1.2) /io/opencv/modules/imgproc/src/resize.cpp:3720: error: (-215:Assertion failed) !ssize.empty() in function 'resize'\n",
            "\n",
            "OpenCV(4.1.2) /io/opencv/modules/imgproc/src/resize.cpp:3720: error: (-215:Assertion failed) !ssize.empty() in function 'resize'\n",
            "\n",
            "OpenCV(4.1.2) /io/opencv/modules/imgproc/src/resize.cpp:3720: error: (-215:Assertion failed) !ssize.empty() in function 'resize'\n",
            "\n",
            "OpenCV(4.1.2) /io/opencv/modules/imgproc/src/resize.cpp:3720: error: (-215:Assertion failed) !ssize.empty() in function 'resize'\n",
            "\n",
            "OpenCV(4.1.2) /io/opencv/modules/imgproc/src/resize.cpp:3720: error: (-215:Assertion failed) !ssize.empty() in function 'resize'\n",
            "\n",
            "OpenCV(4.1.2) /io/opencv/modules/imgproc/src/resize.cpp:3720: error: (-215:Assertion failed) !ssize.empty() in function 'resize'\n",
            "\n",
            "OpenCV(4.1.2) /io/opencv/modules/imgproc/src/resize.cpp:3720: error: (-215:Assertion failed) !ssize.empty() in function 'resize'\n",
            "\n",
            "OpenCV(4.1.2) /io/opencv/modules/imgproc/src/resize.cpp:3720: error: (-215:Assertion failed) !ssize.empty() in function 'resize'\n",
            "\n",
            "OpenCV(4.1.2) /io/opencv/modules/imgproc/src/resize.cpp:3720: error: (-215:Assertion failed) !ssize.empty() in function 'resize'\n",
            "\n",
            "OpenCV(4.1.2) /io/opencv/modules/imgproc/src/resize.cpp:3720: error: (-215:Assertion failed) !ssize.empty() in function 'resize'\n",
            "\n",
            "OpenCV(4.1.2) /io/opencv/modules/imgproc/src/resize.cpp:3720: error: (-215:Assertion failed) !ssize.empty() in function 'resize'\n",
            "\n",
            "OpenCV(4.1.2) /io/opencv/modules/imgproc/src/resize.cpp:3720: error: (-215:Assertion failed) !ssize.empty() in function 'resize'\n",
            "\n",
            "OpenCV(4.1.2) /io/opencv/modules/imgproc/src/resize.cpp:3720: error: (-215:Assertion failed) !ssize.empty() in function 'resize'\n",
            "\n",
            "OpenCV(4.1.2) /io/opencv/modules/imgproc/src/resize.cpp:3720: error: (-215:Assertion failed) !ssize.empty() in function 'resize'\n",
            "\n",
            "OpenCV(4.1.2) /io/opencv/modules/imgproc/src/resize.cpp:3720: error: (-215:Assertion failed) !ssize.empty() in function 'resize'\n",
            "\n",
            "OpenCV(4.1.2) /io/opencv/modules/imgproc/src/resize.cpp:3720: error: (-215:Assertion failed) !ssize.empty() in function 'resize'\n",
            "\n",
            "OpenCV(4.1.2) /io/opencv/modules/imgproc/src/resize.cpp:3720: error: (-215:Assertion failed) !ssize.empty() in function 'resize'\n",
            "\n",
            "OpenCV(4.1.2) /io/opencv/modules/imgproc/src/resize.cpp:3720: error: (-215:Assertion failed) !ssize.empty() in function 'resize'\n",
            "\n",
            "OpenCV(4.1.2) /io/opencv/modules/imgproc/src/resize.cpp:3720: error: (-215:Assertion failed) !ssize.empty() in function 'resize'\n",
            "\n",
            "OpenCV(4.1.2) /io/opencv/modules/imgproc/src/resize.cpp:3720: error: (-215:Assertion failed) !ssize.empty() in function 'resize'\n",
            "\n",
            "OpenCV(4.1.2) /io/opencv/modules/imgproc/src/resize.cpp:3720: error: (-215:Assertion failed) !ssize.empty() in function 'resize'\n",
            "\n",
            "OpenCV(4.1.2) /io/opencv/modules/imgproc/src/resize.cpp:3720: error: (-215:Assertion failed) !ssize.empty() in function 'resize'\n",
            "\n",
            "OpenCV(4.1.2) /io/opencv/modules/imgproc/src/resize.cpp:3720: error: (-215:Assertion failed) !ssize.empty() in function 'resize'\n",
            "\n"
          ],
          "name": "stdout"
        }
      ]
    },
    {
      "cell_type": "markdown",
      "metadata": {
        "id": "2_L3XxUSKGvD"
      },
      "source": [
        "DIVIDE TOTAL DATA INTO TRAINING AND TEST SET"
      ]
    },
    {
      "cell_type": "code",
      "metadata": {
        "id": "Uz2F2ZIvJdqw",
        "colab": {
          "base_uri": "https://localhost:8080/",
          "height": 241
        },
        "outputId": "34704d1f-2dd5-4e6e-d96f-38cbe083399c"
      },
      "source": [
        "def print_shape(string, x):\n",
        "    print (\"Shape of '%s' is %s\" % (string, x.shape,))\n",
        "    \n",
        "randidx    = np.random.randint(imgcnt, size=imgcnt)\n",
        "trainidx   = randidx[0:int(3*imgcnt/5)]\n",
        "testidx    = randidx[int(3*imgcnt/5):imgcnt]\n",
        "trainimg   = totalimg[trainidx, :]\n",
        "trainlabel = totallabel[trainidx, :]\n",
        "testimg    = totalimg[testidx, :]\n",
        "testlabel  = totallabel[testidx, :]\n",
        "print_shape(\"trainimg\", trainimg)\n",
        "print_shape(\"trainlabel\", trainlabel)\n",
        "print_shape(\"testimg\", testimg)\n",
        "print_shape(\"testlabel\", testlabel)"
      ],
      "execution_count": 1,
      "outputs": [
        {
          "output_type": "error",
          "ename": "NameError",
          "evalue": "ignored",
          "traceback": [
            "\u001b[0;31m---------------------------------------------------------------------------\u001b[0m",
            "\u001b[0;31mNameError\u001b[0m                                 Traceback (most recent call last)",
            "\u001b[0;32m<ipython-input-1-a669ea7c0cbd>\u001b[0m in \u001b[0;36m<module>\u001b[0;34m()\u001b[0m\n\u001b[1;32m      2\u001b[0m     \u001b[0mprint\u001b[0m \u001b[0;34m(\u001b[0m\u001b[0;34m\"Shape of '%s' is %s\"\u001b[0m \u001b[0;34m%\u001b[0m \u001b[0;34m(\u001b[0m\u001b[0mstring\u001b[0m\u001b[0;34m,\u001b[0m \u001b[0mx\u001b[0m\u001b[0;34m.\u001b[0m\u001b[0mshape\u001b[0m\u001b[0;34m,\u001b[0m\u001b[0;34m)\u001b[0m\u001b[0;34m)\u001b[0m\u001b[0;34m\u001b[0m\u001b[0;34m\u001b[0m\u001b[0m\n\u001b[1;32m      3\u001b[0m \u001b[0;34m\u001b[0m\u001b[0m\n\u001b[0;32m----> 4\u001b[0;31m \u001b[0mrandidx\u001b[0m    \u001b[0;34m=\u001b[0m \u001b[0mnp\u001b[0m\u001b[0;34m.\u001b[0m\u001b[0mrandom\u001b[0m\u001b[0;34m.\u001b[0m\u001b[0mrandint\u001b[0m\u001b[0;34m(\u001b[0m\u001b[0mimgcnt\u001b[0m\u001b[0;34m,\u001b[0m \u001b[0msize\u001b[0m\u001b[0;34m=\u001b[0m\u001b[0mimgcnt\u001b[0m\u001b[0;34m)\u001b[0m\u001b[0;34m\u001b[0m\u001b[0;34m\u001b[0m\u001b[0m\n\u001b[0m\u001b[1;32m      5\u001b[0m \u001b[0mtrainidx\u001b[0m   \u001b[0;34m=\u001b[0m \u001b[0mrandidx\u001b[0m\u001b[0;34m[\u001b[0m\u001b[0;36m0\u001b[0m\u001b[0;34m:\u001b[0m\u001b[0mint\u001b[0m\u001b[0;34m(\u001b[0m\u001b[0;36m3\u001b[0m\u001b[0;34m*\u001b[0m\u001b[0mimgcnt\u001b[0m\u001b[0;34m/\u001b[0m\u001b[0;36m5\u001b[0m\u001b[0;34m)\u001b[0m\u001b[0;34m]\u001b[0m\u001b[0;34m\u001b[0m\u001b[0;34m\u001b[0m\u001b[0m\n\u001b[1;32m      6\u001b[0m \u001b[0mtestidx\u001b[0m    \u001b[0;34m=\u001b[0m \u001b[0mrandidx\u001b[0m\u001b[0;34m[\u001b[0m\u001b[0mint\u001b[0m\u001b[0;34m(\u001b[0m\u001b[0;36m3\u001b[0m\u001b[0;34m*\u001b[0m\u001b[0mimgcnt\u001b[0m\u001b[0;34m/\u001b[0m\u001b[0;36m5\u001b[0m\u001b[0;34m)\u001b[0m\u001b[0;34m:\u001b[0m\u001b[0mimgcnt\u001b[0m\u001b[0;34m]\u001b[0m\u001b[0;34m\u001b[0m\u001b[0;34m\u001b[0m\u001b[0m\n",
            "\u001b[0;31mNameError\u001b[0m: name 'np' is not defined"
          ]
        }
      ]
    },
    {
      "cell_type": "markdown",
      "metadata": {
        "id": "oCTS3JV-KMHV"
      },
      "source": [
        "SAVE TO NPZ"
      ]
    },
    {
      "cell_type": "code",
      "metadata": {
        "id": "qH6Vgqg8JvI_"
      },
      "source": [
        "savepath = cwd + \"/data/\" + data_name + \".npz\"\n",
        "np.savez(savepath, trainimg=trainimg, trainlabel=trainlabel, testimg=testimg, testlabel=testlabel, imgsize=imgsize, use_gray=use_gray)\n",
        "print (\"Saved to %s\" % (savepath))"
      ],
      "execution_count": null,
      "outputs": []
    },
    {
      "cell_type": "markdown",
      "metadata": {
        "id": "r8JOqz9AKOYE"
      },
      "source": [
        "LOAD TO CHECK!"
      ]
    },
    {
      "cell_type": "code",
      "metadata": {
        "id": "ppPmETe2J8Hg"
      },
      "source": [
        "# Load them!\n",
        "cwd = os.getcwd()\n",
        "loadpath = cwd + \"/data/\" + data_name + \".npz\"\n",
        "l = np.load(loadpath,allow_pickle=True) ##allow_pickle = true 추가\n",
        "1\n",
        "# See what's in here\n",
        "l.files\n",
        "\n",
        "# Parse data\n",
        "trainimg_loaded = l['trainimg']\n",
        "trainlabel_loaded = l['trainlabel']\n",
        "testimg_loaded = l['testimg']\n",
        "testlabel_loaded = l['testlabel']\n",
        "\n",
        "print (\"%d train images loaded\" % (trainimg_loaded.shape[0]))\n",
        "print (\"%d test images loaded\" % (testimg_loaded.shape[0]))\n",
        "print (\"Loaded from to %s\" % (savepath))"
      ],
      "execution_count": null,
      "outputs": []
    },
    {
      "cell_type": "markdown",
      "metadata": {
        "id": "7kuc29SFKSiC"
      },
      "source": [
        "PLOT RANDOMLY SELECTED TRAIN IMAGES"
      ]
    },
    {
      "cell_type": "code",
      "metadata": {
        "id": "YTI4n-bbgEzL"
      },
      "source": [
        "print(trainimg_loaded.shape)"
      ],
      "execution_count": null,
      "outputs": []
    },
    {
      "cell_type": "code",
      "metadata": {
        "id": "WxvmpA4hKUl5"
      },
      "source": [
        "ntrain_loaded = trainimg_loaded.shape[0]\n",
        "batch_size = 10;\n",
        "randidx = np.random.randint(ntrain_loaded, size=batch_size)\n",
        "for i in randidx: \n",
        "    currimg = np.reshape(trainimg_loaded[i, :], (imgsize[0], -1))\n",
        "    currlabel_onehot = trainlabel_loaded[i, :]\n",
        "    currlabel = np.argmax(currlabel_onehot) \n",
        "    if use_gray:\n",
        "        currimg = np.reshape(trainimg[i, :], (imgsize[0], -1))\n",
        "        plt.matshow(currimg, cmap=plt.get_cmap('gray'))\n",
        "        plt.colorbar()\n",
        "    else:\n",
        "        currimg = np.reshape(trainimg[i, :], (imgsize[0], imgsize[1], 3))\n",
        "        plt.imshow(currimg)\n",
        "    title_string = \"[%d] %d-class\" % (i, currlabel)\n",
        "    plt.title(title_string) \n",
        "    plt.show()"
      ],
      "execution_count": null,
      "outputs": []
    },
    {
      "cell_type": "markdown",
      "metadata": {
        "id": "LX7F54OsKWgt"
      },
      "source": [
        "PLOT RANDOMLY SELECTED TEST IMAGES"
      ]
    },
    {
      "cell_type": "code",
      "metadata": {
        "id": "M7f5x3bwKZmt"
      },
      "source": [
        "# Do batch stuff using loaded data \n",
        "ntest_loaded = testimg_loaded.shape[0]\n",
        "batch_size   = 3;\n",
        "randidx      = np.random.randint(ntest_loaded, size=batch_size)\n",
        "for i in randidx: \n",
        "    currimg = np.reshape(testimg_loaded[i, :], (imgsize[0], -1))\n",
        "    currlabel_onehot = testlabel_loaded[i, :]\n",
        "    currlabel = np.argmax(currlabel_onehot) \n",
        "    \n",
        "    if use_gray:\n",
        "        currimg = np.reshape(testimg[i, :], (imgsize[0], -1))\n",
        "        plt.matshow(currimg, cmap=plt.get_cmap('gray'))\n",
        "        plt.colorbar()\n",
        "    else:\n",
        "        currimg = np.reshape(testimg[i, :], (imgsize[0], imgsize[1], 3))\n",
        "        plt.imshow(currimg)\n",
        "    title_string = \"[%d] %d-class\" % (i, currlabel)\n",
        "    plt.title(title_string) \n",
        "    plt.show()"
      ],
      "execution_count": null,
      "outputs": []
    },
    {
      "cell_type": "code",
      "metadata": {
        "id": "Udo62j-xZVbG"
      },
      "source": [
        "       \n",
        "        "
      ],
      "execution_count": null,
      "outputs": []
    },
    {
      "cell_type": "code",
      "metadata": {
        "id": "usgVpgxnZeQT"
      },
      "source": [
        "# 애로 사항\n",
        "# 1) 확보한 데이터 셋에 YOLO를 어떻게 적용할 수 있나?\n",
        "# 2) 적용한다고 했을 때, 폴더명을 라벨 및 region 명으로 어떻게 활용할 수 있는가?\n",
        "# 3) 현재 폴더구조로 구성된 데이터 셋을 바꿔야 하는 것인가?"
      ],
      "execution_count": null,
      "outputs": []
    }
  ]
}